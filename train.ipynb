{
 "cells": [
  {
   "cell_type": "code",
   "execution_count": null,
   "id": "1be9f2a8",
   "metadata": {},
   "outputs": [],
   "source": [
    "from functions.preprocessing import space, clean_korean_documents\n",
    "import pandas as pd\n",
    "from konlpy.tag import Okt\n",
    "from sklearn.feature_extraction.text import TfidfVectorizer\n",
    "from sklearn.linear_model import LogisticRegression\n",
    "import joblib\n"
   ]
  },
  {
   "cell_type": "code",
   "execution_count": null,
   "id": "5de937a5",
   "metadata": {},
   "outputs": [],
   "source": [
    "# 데이터 로드 및 전처리\n",
    "\n",
    "data = pd.read_csv('https://raw.githubusercontent.com/e9t/nsmc/master/ratings_train.txt', sep='\\t', keep_default_na=False)\n",
    "okt = Okt()\n",
    "\n",
    "reviews = data['document'].to_list()\n",
    "label = data['label'].to_list()\n",
    "\n",
    "for i in range(len(reviews)):\n",
    "  reviews[i]=okt.normalize(reviews[i])\n",
    "  reviews[i]=space(reviews[i])\n",
    "reviews= clean_korean_documents(reviews)"
   ]
  },
  {
   "cell_type": "code",
   "execution_count": null,
   "id": "73b6a256",
   "metadata": {},
   "outputs": [],
   "source": [
    "# 모델링 및 훈련\n",
    "\n",
    "tfd=TfidfVectorizer()\n",
    "Reviews=tfd.fit_transform(reviews)\n",
    "\n",
    "lr=LogisticRegression()\n",
    "lr.fit(Reviews, label)"
   ]
  },
  {
   "cell_type": "code",
   "execution_count": null,
   "id": "61cee495",
   "metadata": {},
   "outputs": [],
   "source": [
    "# 모델 저장\n",
    "\n",
    "joblib.dump(lr, 'model.joblib')\n",
    "joblib.dump(tfd, 'vectorizer.joblib')"
   ]
  }
 ],
 "metadata": {
  "kernelspec": {
   "display_name": "Python 3",
   "language": "python",
   "name": "python3"
  },
  "language_info": {
   "codemirror_mode": {
    "name": "ipython",
    "version": 3
   },
   "file_extension": ".py",
   "mimetype": "text/x-python",
   "name": "python",
   "nbconvert_exporter": "python",
   "pygments_lexer": "ipython3",
   "version": "3.11.2"
  }
 },
 "nbformat": 4,
 "nbformat_minor": 5
}
